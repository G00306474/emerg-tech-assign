{
 "cells": [
  {
   "cell_type": "markdown",
   "metadata": {},
   "source": [
    "# Numpy Notebook\n",
    "## Introduction"
   ]
  },
  {
   "cell_type": "markdown",
   "metadata": {},
   "source": [
    "This notebook is on [NumPy](http://www.numpy.org/). NumPy is the fundamental package for scientific computing in Python. It allows you to analyze data more effectively than the standard python package. I will use a brief example to show how it can simply Multiplication of two Matrices. "
   ]
  },
  {
   "cell_type": "markdown",
   "metadata": {},
   "source": [
    "## Exampel Standard Python Multiplication of two Matrices"
   ]
  },
  {
   "cell_type": "code",
   "execution_count": 5,
   "metadata": {},
   "outputs": [
    {
     "name": "stdout",
     "output_type": "stream",
     "text": [
      "[[63, 320, 83], [77, 484, 102], [84, 248, 117]]\n"
     ]
    }
   ],
   "source": [
    "\n",
    "# input two matrices of size n x m \n",
    "matrix1 = [[1, 6, 5], \n",
    "        [3 ,4, 8], \n",
    "        [2, 12, 3]] \n",
    "matrix2 = [[3, 4, 6], \n",
    "        [5, 6, 7], \n",
    "        [6,56, 7]] \n",
    "  \n",
    "res = [[0 for x in range(3)] for y in range(3)]  \n",
    "  \n",
    "# explicit for loops \n",
    "for i in range(len(matrix1)): \n",
    "    for j in range(len(matrix2[0])): \n",
    "        for k in range(len(matrix2)): \n",
    "  \n",
    "            # resulted matrix \n",
    "            res[i][j] += matrix1[i][k] * matrix2[k][j] \n",
    "  \n",
    "print (res) "
   ]
  },
  {
   "cell_type": "markdown",
   "metadata": {},
   "source": [
    "## Using Numpy Multiplication of two Matrices"
   ]
  },
  {
   "cell_type": "code",
   "execution_count": 6,
   "metadata": {},
   "outputs": [
    {
     "name": "stdout",
     "output_type": "stream",
     "text": [
      "[[ 63 320  83]\n",
      " [ 77 484 102]\n",
      " [ 84 248 117]]\n"
     ]
    }
   ],
   "source": [
    "# We need install numpy in order to import it \n",
    "import numpy as np \n",
    "  \n",
    "# input two matrices \n",
    "mat1 = ([1, 6, 5],[3 ,4, 8],[2, 12, 3]) \n",
    "mat2 = ([3, 4, 6],[5, 6, 7],[6,56, 7]) \n",
    "  \n",
    "# This will return dot product \n",
    "res = np.dot(mat1,mat2) \n",
    "  \n",
    "# print resulted matrix \n",
    "print(res)"
   ]
  },
  {
   "cell_type": "markdown",
   "metadata": {},
   "source": [
    "As you can see the results are the same, but the code used in NumPy is far easier for a human to read."
   ]
  }
 ],
 "metadata": {
  "kernelspec": {
   "display_name": "Python 3",
   "language": "python",
   "name": "python3"
  },
  "language_info": {
   "codemirror_mode": {
    "name": "ipython",
    "version": 3
   },
   "file_extension": ".py",
   "mimetype": "text/x-python",
   "name": "python",
   "nbconvert_exporter": "python",
   "pygments_lexer": "ipython3",
   "version": "3.6.5"
  }
 },
 "nbformat": 4,
 "nbformat_minor": 2
}
