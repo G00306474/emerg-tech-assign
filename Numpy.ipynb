{
 "cells": [
  {
   "cell_type": "markdown",
   "metadata": {},
   "source": [
    "# Numpy Notebook\n",
    "## Introduction"
   ]
  },
  {
   "cell_type": "markdown",
   "metadata": {},
   "source": [
    "This notebook is on [NumPy](http://www.numpy.org/). NumPy is the fundamental package for scientific computing in Python. It allows you to analyze data more effectively than the standard python package. I will use a brief example to show how it can simply Multiplication of two Matrices. "
   ]
  },
  {
   "cell_type": "markdown",
   "metadata": {},
   "source": [
    "#### Exampel Standard Python Multiplication of two Matrices"
   ]
  },
  {
   "cell_type": "code",
   "execution_count": 5,
   "metadata": {},
   "outputs": [
    {
     "name": "stdout",
     "output_type": "stream",
     "text": [
      "[[63, 320, 83], [77, 484, 102], [84, 248, 117]]\n"
     ]
    }
   ],
   "source": [
    "\n",
    "# input two matrices of size n x m \n",
    "matrix1 = [[1, 6, 5], \n",
    "        [3 ,4, 8], \n",
    "        [2, 12, 3]] \n",
    "matrix2 = [[3, 4, 6], \n",
    "        [5, 6, 7], \n",
    "        [6,56, 7]] \n",
    "  \n",
    "res = [[0 for x in range(3)] for y in range(3)]  \n",
    "  \n",
    "# explicit for loops \n",
    "for i in range(len(matrix1)): \n",
    "    for j in range(len(matrix2[0])): \n",
    "        for k in range(len(matrix2)): \n",
    "  \n",
    "            # resulted matrix \n",
    "            res[i][j] += matrix1[i][k] * matrix2[k][j] \n",
    "  \n",
    "print (res) "
   ]
  },
  {
   "cell_type": "markdown",
   "metadata": {},
   "source": [
    "#### Using Numpy Multiplication of two Matrices"
   ]
  },
  {
   "cell_type": "code",
   "execution_count": 6,
   "metadata": {},
   "outputs": [
    {
     "name": "stdout",
     "output_type": "stream",
     "text": [
      "[[ 63 320  83]\n",
      " [ 77 484 102]\n",
      " [ 84 248 117]]\n"
     ]
    }
   ],
   "source": [
    "# We need install numpy in order to import it \n",
    "import numpy as np \n",
    "  \n",
    "# input two matrices \n",
    "mat1 = ([1, 6, 5],[3 ,4, 8],[2, 12, 3]) \n",
    "mat2 = ([3, 4, 6],[5, 6, 7],[6,56, 7]) \n",
    "  \n",
    "# This will return dot product \n",
    "res = np.dot(mat1,mat2) \n",
    "  \n",
    "# print resulted matrix \n",
    "print(res)"
   ]
  },
  {
   "cell_type": "markdown",
   "metadata": {},
   "source": [
    "As you can see the results are the same, but the code used in NumPy is far easier for a human to read."
   ]
  },
  {
   "cell_type": "markdown",
   "metadata": {},
   "source": [
    "# Simple Random Data\n",
    "## .rand/randn"
   ]
  },
  {
   "cell_type": "markdown",
   "metadata": {},
   "source": [
    "For the rest of this notebook I will be focusing on the Numpy.Random package which is used for Scientific Computing.\n",
    "The first thing you need to do to use Numpy is install it which you can do from [here](https://docs.scipy.org/doc/numpy-1.15.1/user/install.html). Now that it is installed we will import it. "
   ]
  },
  {
   "cell_type": "code",
   "execution_count": 1,
   "metadata": {},
   "outputs": [],
   "source": [
    "import numpy as np "
   ]
  },
  {
   "cell_type": "markdown",
   "metadata": {},
   "source": [
    "Now that we have that imported. We will do a numpy.random.rand which will create a 2D array of numbers. We will tell it how many colums and rows we want and it will do the rest. "
   ]
  },
  {
   "cell_type": "code",
   "execution_count": 3,
   "metadata": {},
   "outputs": [
    {
     "data": {
      "text/plain": [
       "array([[[0.48100298, 0.04990781, 0.31624886, 0.78173291],\n",
       "        [0.38252631, 0.99490224, 0.07600687, 0.21425786],\n",
       "        [0.32750922, 0.10830686, 0.59618421, 0.95986592]],\n",
       "\n",
       "       [[0.38603438, 0.77966195, 0.25357956, 0.73611978],\n",
       "        [0.26614924, 0.6451126 , 0.09703231, 0.68980686],\n",
       "        [0.24113264, 0.95054705, 0.67204768, 0.22580709]]])"
      ]
     },
     "execution_count": 3,
     "metadata": {},
     "output_type": "execute_result"
    }
   ],
   "source": [
    "np.random.rand(2,3,4)"
   ]
  },
  {
   "cell_type": "markdown",
   "metadata": {},
   "source": [
    "In this example the 2 is the size of the array. If you entered no number for 2 it would create a 1 dimesional array as shown below. The 3 is the number of rows and the 4 is the number of columns. The values asigned into the array are all randomly selected between 0 and 1. "
   ]
  },
  {
   "cell_type": "code",
   "execution_count": 5,
   "metadata": {},
   "outputs": [
    {
     "data": {
      "text/plain": [
       "array([[0.2768799 , 0.51336271, 0.411633  , 0.0738023 ],\n",
       "       [0.47284638, 0.3456983 , 0.98721356, 0.46499989],\n",
       "       [0.54540204, 0.23281936, 0.45814326, 0.44479646]])"
      ]
     },
     "execution_count": 5,
     "metadata": {},
     "output_type": "execute_result"
    }
   ],
   "source": [
    "np.random.rand(3,4)"
   ]
  },
  {
   "cell_type": "markdown",
   "metadata": {},
   "source": [
    "Random.rand uses uniform distribution to fill the array. Which means each number has as much of a chance to be picked as any other number. While this is a fair way of selecting numbers it is not a real world accurate way of chosing numbers where certain numbers are more likely to be called than others. I you wish to use real world accurate numbers you can add an \"n\" to the end of the statement and it will use normal distribution to select the numbers as shown below."
   ]
  },
  {
   "cell_type": "code",
   "execution_count": 6,
   "metadata": {},
   "outputs": [
    {
     "data": {
      "text/plain": [
       "array([[[-1.65015076,  0.24263815, -0.355016  , -0.62050798],\n",
       "        [-0.15413717,  1.8256929 , -1.1975853 , -1.11863778],\n",
       "        [ 1.30839753, -0.92992071, -1.027336  ,  1.30407051]],\n",
       "\n",
       "       [[-0.22534855,  1.12293427, -0.31061175, -0.68011524],\n",
       "        [-0.25997882,  0.04914809, -1.00958579,  0.8633635 ],\n",
       "        [ 1.16776524, -0.38611816,  0.2729556 ,  0.3360858 ]]])"
      ]
     },
     "execution_count": 6,
     "metadata": {},
     "output_type": "execute_result"
    }
   ],
   "source": [
    "np.random.randn(2,3,4)"
   ]
  },
  {
   "cell_type": "markdown",
   "metadata": {},
   "source": [
    "Now we will randomly select some numbers using .rand, .randn and plot both results so we will be able to see the difference in numbers returned."
   ]
  },
  {
   "cell_type": "code",
   "execution_count": 7,
   "metadata": {},
   "outputs": [],
   "source": [
    "import matplotlib.pyplot as plt"
   ]
  },
  {
   "cell_type": "code",
   "execution_count": 16,
   "metadata": {},
   "outputs": [
    {
     "data": {
      "image/png": "[encoded data removed]",
      "text/plain": [
       "<Figure size 432x288 with 1 Axes>"
      ]
     },
     "metadata": {},
     "output_type": "display_data"
    }
   ],
   "source": [
    "x =np.random.rand(1000)\n",
    "y =np.random.rand(1000) \n",
    "plt.ylabel(\" X Values \")\n",
    "plt.xlabel(\" Y Values \")\n",
    "plt.scatter(x,y)\n",
    "plt.show()"
   ]
  },
  {
   "cell_type": "code",
   "execution_count": 15,
   "metadata": {},
   "outputs": [
    {
     "data": {
      "image/png": "[encoded data removed]",
      "text/plain": [
       "<Figure size 432x288 with 1 Axes>"
      ]
     },
     "metadata": {},
     "output_type": "display_data"
    }
   ],
   "source": [
    "x =np.random.randn(1000)\n",
    "y =np.random.randn(1000) \n",
    "plt.ylabel(\" X Values \")\n",
    "plt.xlabel(\" Y Values \")\n",
    "plt.scatter(x,y)\n",
    "plt.show()"
   ]
  },
  {
   "cell_type": "markdown",
   "metadata": {},
   "source": [
    "As you can see theres less of spread of the numbers chosen.\n"
   ]
  },
  {
   "cell_type": "markdown",
   "metadata": {},
   "source": [
    "## .randint"
   ]
  },
  {
   "cell_type": "markdown",
   "metadata": {},
   "source": [
    ".randint will return random integers."
   ]
  },
  {
   "cell_type": "code",
   "execution_count": 39,
   "metadata": {},
   "outputs": [
    {
     "data": {
      "text/plain": [
       "array([5, 4, 6, 7, 8])"
      ]
     },
     "execution_count": 39,
     "metadata": {},
     "output_type": "execute_result"
    }
   ],
   "source": [
    "np.random.randint(low=4,high=9, size= 5 )"
   ]
  },
  {
   "cell_type": "markdown",
   "metadata": {},
   "source": [
    "In the above example 4 is the lowest number that can be selected 8 is the highest we put in 9 so that 8 can be selected(This is why it is called half-open interval of selection). 5 is the amount of numbers we want to be selected. "
   ]
  },
  {
   "cell_type": "markdown",
   "metadata": {},
   "source": [
    "We can also get an array of integers back by adding brackets around size and adding 2 in there to get a 2 dimensional array back."
   ]
  },
  {
   "cell_type": "code",
   "execution_count": 40,
   "metadata": {},
   "outputs": [
    {
     "data": {
      "text/plain": [
       "array([[8, 4, 4, 8, 4],\n",
       "       [6, 7, 7, 7, 8]])"
      ]
     },
     "execution_count": 40,
     "metadata": {},
     "output_type": "execute_result"
    }
   ],
   "source": [
    "np.random.randint(low=4,high=9, size=(2, 5))"
   ]
  },
  {
   "cell_type": "markdown",
   "metadata": {},
   "source": [
    "Alos be aware you don't need to write in high, low or size. The code will work without these, it just makes it easier to understand what is going on "
   ]
  },
  {
   "cell_type": "code",
   "execution_count": 41,
   "metadata": {},
   "outputs": [
    {
     "data": {
      "text/plain": [
       "array([[5, 5, 7, 4, 8],\n",
       "       [4, 8, 4, 7, 7]])"
      ]
     },
     "execution_count": 41,
     "metadata": {},
     "output_type": "execute_result"
    }
   ],
   "source": [
    "np.random.randint(4,9,(2, 5))"
   ]
  },
  {
   "cell_type": "code",
   "execution_count": null,
   "metadata": {},
   "outputs": [],
   "source": []
  },
  {
   "cell_type": "code",
   "execution_count": null,
   "metadata": {},
   "outputs": [],
   "source": []
  }
 ],
 "metadata": {
  "kernelspec": {
   "display_name": "Python 3",
   "language": "python",
   "name": "python3"
  },
  "language_info": {
   "codemirror_mode": {
    "name": "ipython",
    "version": 3
   },
   "file_extension": ".py",
   "mimetype": "text/x-python",
   "name": "python",
   "nbconvert_exporter": "python",
   "pygments_lexer": "ipython3",
   "version": "3.6.5"
  }
 },
 "nbformat": 4,
 "nbformat_minor": 2
}
