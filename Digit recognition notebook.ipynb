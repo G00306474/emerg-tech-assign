{
 "cells": [
  {
   "cell_type": "markdown",
   "metadata": {},
   "source": [
    "# Digit Recognition Notebook "
   ]
  },
  {
   "cell_type": "markdown",
   "metadata": {},
   "source": [
    "## Imports"
   ]
  },
  {
   "cell_type": "code",
   "execution_count": 3,
   "metadata": {},
   "outputs": [
    {
     "name": "stderr",
     "output_type": "stream",
     "text": [
      "C:\\Users\\KMora\\Anaconda3\\lib\\site-packages\\h5py\\__init__.py:36: FutureWarning: Conversion of the second argument of issubdtype from `float` to `np.floating` is deprecated. In future, it will be treated as `np.float64 == np.dtype(float).type`.\n",
      "  from ._conv import register_converters as _register_converters\n",
      "Using TensorFlow backend.\n"
     ]
    }
   ],
   "source": [
    "import os.path\n",
    "import gzip\n",
    "import numpy as np\n",
    "import matplotlib.pyplot as plt\n",
    "import keras as kr\n",
    "import sklearn.preprocessing as pre\n",
    "import tensorflow as tf\n",
    "import tkinter as tk # used to load img\n",
    "from tkinter import filedialog #for uploading image files\n",
    "from keras.preprocessing import image"
   ]
  },
  {
   "cell_type": "markdown",
   "metadata": {},
   "source": [
    "## Loading Data"
   ]
  },
  {
   "cell_type": "code",
   "execution_count": 4,
   "metadata": {
    "scrolled": true
   },
   "outputs": [],
   "source": [
    "with gzip.open('data/train-images-idx3-ubyte.gz', 'rb') as f: \n",
    "    file_content = f.read() \n",
    "\n",
    "with gzip.open('data/train-labels-idx1-ubyte.gz', 'rb') as f:\n",
    "    labels = f.read() "
   ]
  },
  {
   "cell_type": "markdown",
   "metadata": {},
   "source": [
    "## Neural network"
   ]
  },
  {
   "cell_type": "markdown",
   "metadata": {},
   "source": [
    "Now we will create our neural network. We are going to use 4 layers. The first thing we do is tell keras it will be sequential meaning multiply layers. We then use .add() to add each layer. \n",
    "The first layer we tell to have 1000 neurons and that the input dimension is 784(which we get from the rows by columns of our data set)\n",
    "We then tell it to have a dropout of 20% which means when each layer runs it will remove 20% of the neurons from the network. This is to limit the interdependency of each neuron on eachother.(If we leave this out accuracy will go up to 97% on test data but will have difficulty with user input)\n",
    "We do these two steps for each layer execpt the last to guarantee each neuron is trained at least once. \n",
    "We then create a output layer with 10 neurons which is for our ten possiable answers. \n",
    "Using optimiser adam as it was named the fastest and most consistent one [here](https://medium.com/octavian-ai/which-optimizer-and-learning-rate-should-i-use-for-deep-learning-5acb418f9b2)"
   ]
  },
  {
   "cell_type": "code",
   "execution_count": 18,
   "metadata": {},
   "outputs": [],
   "source": [
    "from keras.layers import Dense, Dropout, Activation\n",
    "from keras.models import Model\n",
    "\n",
    "# Start a neural network, building it by layers.\n",
    "model = kr.models.Sequential()\n",
    "\n",
    "# Add a hidden layer with 1000 neurons and an input layer with 784.\n",
    "model.add(kr.layers.Dense(units=1000, activation='relu', input_dim=784, kernel_initializer=\"normal\"))\n",
    "model.add(Dropout(0.2)) #Dropout is a technique where randomly selected neurons are ignored during training. \n",
    "# They are “dropped-out” randomly. \n",
    "# This means that their contribution to the activation of downstream neurons is temporally removed on the \n",
    "# forward pass and any weight updates are not applied to the neuron on the backward pass.\n",
    "model.add(kr.layers.Dense(units=1000, activation='relu'))\n",
    "model.add(Dropout(0.2))\n",
    "model.add(kr.layers.Dense(units=1000, activation='relu'))\n",
    "model.add(Dropout(0.2))\n",
    "model.add(kr.layers.Dense(units=1000, activation='relu'))\n",
    "\n",
    "\n",
    "# Add a 10 neuron output layer.\n",
    "model.add(kr.layers.Dense(units=10, activation='softmax'))\n",
    "\n",
    "# Build the graph.\n",
    "model.compile(loss='categorical_crossentropy', optimizer='adam', metrics=['accuracy'])"
   ]
  },
  {
   "cell_type": "markdown",
   "metadata": {},
   "source": [
    "Now we are going to import the training images. "
   ]
  },
  {
   "cell_type": "code",
   "execution_count": 19,
   "metadata": {},
   "outputs": [],
   "source": [
    "with gzip.open('data/train-images-idx3-ubyte.gz', 'rb') as f:\n",
    "    train_img = f.read()\n",
    "\n",
    "with gzip.open('data/train-labels-idx1-ubyte.gz', 'rb') as f:\n",
    "    train_lbl = f.read()\n",
    "    \n",
    "train_img = ~np.array(list(train_img[16:])).reshape(60000, 28, 28).astype(np.uint8)\n",
    "train_lbl =  np.array(list(train_lbl[ 8:])).astype(np.uint8)"
   ]
  },
  {
   "cell_type": "code",
   "execution_count": 20,
   "metadata": {},
   "outputs": [],
   "source": [
    "inputs = train_img.reshape(60000, 784)/255"
   ]
  },
  {
   "cell_type": "code",
   "execution_count": 21,
   "metadata": {},
   "outputs": [
    {
     "name": "stdout",
     "output_type": "stream",
     "text": [
      "5 [0 0 0 0 0 1 0 0 0 0]\n"
     ]
    }
   ],
   "source": [
    "# For encoding categorical variables.\n",
    "encoder = pre.LabelBinarizer()\n",
    "encoder.fit(train_lbl)\n",
    "outputs = encoder.transform(train_lbl)\n",
    "\n",
    "print(train_lbl[0], outputs[0])"
   ]
  },
  {
   "cell_type": "markdown",
   "metadata": {},
   "source": [
    "Checks if there is a saved neural network. If there is it will use that if not it will create one. "
   ]
  },
  {
   "cell_type": "code",
   "execution_count": 22,
   "metadata": {
    "scrolled": true
   },
   "outputs": [
    {
     "name": "stdout",
     "output_type": "stream",
     "text": [
      "Epoch 1/15\n",
      "60000/60000 [==============================] - 121s 2ms/step - loss: 0.5480 - acc: 0.8220\n",
      "Epoch 2/15\n",
      "60000/60000 [==============================] - 118s 2ms/step - loss: 0.3342 - acc: 0.8945\n",
      "Epoch 3/15\n",
      "60000/60000 [==============================] - 119s 2ms/step - loss: 0.2826 - acc: 0.9121\n",
      "Epoch 4/15\n",
      "60000/60000 [==============================] - 123s 2ms/step - loss: 0.2578 - acc: 0.9203 \n",
      "Epoch 5/15\n",
      "60000/60000 [==============================] - 119s 2ms/step - loss: 0.2369 - acc: 0.9275\n",
      "Epoch 6/15\n",
      "60000/60000 [==============================] - 125s 2ms/step - loss: 0.2147 - acc: 0.9346 3s - loss: 0.215\n",
      "Epoch 7/15\n",
      "60000/60000 [==============================] - 122s 2ms/step - loss: 0.2051 - acc: 0.9371\n",
      "Epoch 8/15\n",
      "60000/60000 [==============================] - 121s 2ms/step - loss: 0.2072 - acc: 0.9365\n",
      "Epoch 9/15\n",
      "60000/60000 [==============================] - 119s 2ms/step - loss: 0.1988 - acc: 0.9392\n",
      "Epoch 10/15\n",
      "60000/60000 [==============================] - 121s 2ms/step - loss: 0.1804 - acc: 0.9449\n",
      "Epoch 11/15\n",
      "60000/60000 [==============================] - 122s 2ms/step - loss: 0.1762 - acc: 0.9456 5s -\n",
      "Epoch 12/15\n",
      "60000/60000 [==============================] - 123s 2ms/step - loss: 0.1716 - acc: 0.9477\n",
      "Epoch 13/15\n",
      "60000/60000 [==============================] - 122s 2ms/step - loss: 0.1651 - acc: 0.9489\n",
      "Epoch 14/15\n",
      "60000/60000 [==============================] - 124s 2ms/step - loss: 0.1611 - acc: 0.9501\n",
      "Epoch 15/15\n",
      "60000/60000 [==============================] - 122s 2ms/step - loss: 0.1592 - acc: 0.9511\n"
     ]
    }
   ],
   "source": [
    "if os.path.isfile('savedModel.h5py'): \n",
    "    model = kr.models.load_model('savedModel.h5py')\n",
    "    print(\"Using precreated neuralNetwork. If you wish to create your own just rename or remove from folder file named savedModel.h5py \")\n",
    "else:\n",
    "    model.fit(inputs, outputs, epochs=15, batch_size=100)\n"
   ]
  },
  {
   "cell_type": "markdown",
   "metadata": {},
   "source": [
    "Now we save our model so we dont have to recreate it everytime. "
   ]
  },
  {
   "cell_type": "code",
   "execution_count": 25,
   "metadata": {},
   "outputs": [],
   "source": [
    "# save the current model\n",
    "kr.models.save_model(\n",
    "    model,\n",
    "    \"savedModel.h5py\",\n",
    "    overwrite=True,\n",
    "    include_optimizer=True\n",
    ")"
   ]
  },
  {
   "cell_type": "code",
   "execution_count": 23,
   "metadata": {},
   "outputs": [],
   "source": [
    "with gzip.open('data/t10k-images-idx3-ubyte.gz', 'rb') as f:\n",
    "    test_img = f.read()\n",
    "\n",
    "with gzip.open('data/t10k-labels-idx1-ubyte.gz', 'rb') as f:\n",
    "    test_lbl = f.read()\n",
    "    \n",
    "test_img = ~np.array(list(test_img[16:])).reshape(10000, 784).astype(np.uint8)\n",
    "test_lbl =  np.array(list(test_lbl[ 8:])).astype(np.uint8)"
   ]
  },
  {
   "cell_type": "markdown",
   "metadata": {},
   "source": [
    "Now we will test our network against the test images and see how many it can correctly identify."
   ]
  },
  {
   "cell_type": "code",
   "execution_count": 24,
   "metadata": {},
   "outputs": [
    {
     "name": "stdout",
     "output_type": "stream",
     "text": [
      "MNIST Test Images correctly identified:  9646 /10000\n"
     ]
    }
   ],
   "source": [
    "print(\"MNIST Test Images correctly identified: \",(encoder.inverse_transform(model.predict(test_img)) == test_lbl).sum(),\"/10000\")"
   ]
  },
  {
   "cell_type": "markdown",
   "metadata": {},
   "source": [
    "Now we will imput our own drawn image to testour neural network. When this is run a window will open that will let us select our file. \n",
    "When we select our file it will appear drawn in a window. \n",
    "Then once we close te window our network will try and determine what our drawn number is. You can use paint or gimp to draw your image. "
   ]
  },
  {
   "cell_type": "code",
   "execution_count": 12,
   "metadata": {},
   "outputs": [
    {
     "data": {
      "image/png": "[encoded data removed]",
      "text/plain": [
       "<Figure size 432x288 with 1 Axes>"
      ]
     },
     "metadata": {},
     "output_type": "display_data"
    },
    {
     "name": "stdout",
     "output_type": "stream",
     "text": [
      "program has predicted :  [5]\n"
     ]
    }
   ],
   "source": [
    "root = tk.Tk()\n",
    "root.withdraw()\n",
    "#code source https://stackoverflow.com/questions/9319317/quick-and-easy-file-dialog-in-python\n",
    "\n",
    "file_path = filedialog.askopenfilename()# opens file select window\n",
    "img = image.load_img(path=file_path,color_mode = \"grayscale\",target_size=(28,28,1))\n",
    "#loads image into PIL format\n",
    "image1 = np.array(list(image.img_to_array(img))).reshape(1, 784).astype(np.uint8) / 255.0\n",
    "# shapes array \n",
    "plt.imshow(img)\n",
    "plt.show()\n",
    "test = model.predict(image1)\n",
    "print(\"program has predicted : \", test.argmax(axis=1))\n",
    "#code source https://towardsdatascience.com/basics-of-image-classification-with-keras-43779a299c8b"
   ]
  },
  {
   "cell_type": "markdown",
   "metadata": {},
   "source": [
    "# References"
   ]
  },
  {
   "cell_type": "markdown",
   "metadata": {},
   "source": [
    "[Optimizers](https://keras.io/optimizers/)   \n",
    "[Keras Model](https://keras.io/models/model/)   \n",
    "[Best Optimizers](https://medium.com/octavian-ai/which-optimizer-and-learning-rate-should-i-use-for-deep-learning-5acb418f9b2)   \n",
    "[Python Machine Learning Tutorial](https://www.python-course.eu/neural_network_mnist.php)   \n",
    "[How to classify MNIST digits with different neural network architectures](https://medium.com/tebs-lab/how-to-classify-mnist-digits-with-different-neural-network-architectures-39c75a0f03e3) \n",
    "\n"
   ]
  },
  {
   "cell_type": "code",
   "execution_count": null,
   "metadata": {},
   "outputs": [],
   "source": []
  }
 ],
 "metadata": {
  "kernelspec": {
   "display_name": "Python 3",
   "language": "python",
   "name": "python3"
  },
  "language_info": {
   "codemirror_mode": {
    "name": "ipython",
    "version": 3
   },
   "file_extension": ".py",
   "mimetype": "text/x-python",
   "name": "python",
   "nbconvert_exporter": "python",
   "pygments_lexer": "ipython3",
   "version": "3.6.5"
  }
 },
 "nbformat": 4,
 "nbformat_minor": 2
}
